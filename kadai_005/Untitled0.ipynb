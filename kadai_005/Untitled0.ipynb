{
  "nbformat": 4,
  "nbformat_minor": 0,
  "metadata": {
    "colab": {
      "provenance": []
    },
    "kernelspec": {
      "name": "python3",
      "display_name": "Python 3"
    },
    "language_info": {
      "name": "python"
    }
  },
  "cells": [
    {
      "cell_type": "code",
      "execution_count": 3,
      "metadata": {
        "colab": {
          "base_uri": "https://localhost:8080/"
        },
        "id": "avRpYuPiEJ0W",
        "outputId": "c094caf7-1ee6-4aa5-faba-8a6edd26f324"
      },
      "outputs": [
        {
          "output_type": "stream",
          "name": "stdout",
          "text": [
            "与えられた台形の面積は75.0㎠\n"
          ]
        }
      ],
      "source": [
        "#上辺：10cm\n",
        "#下辺：20cm\n",
        "#高さ：5cm\n",
        "\n",
        "#公式：台形の面積 =（上辺＋下辺）× 高さ ÷ 2\n",
        "\n",
        "upperside = 10\n",
        "downside = 20\n",
        "height = 5\n",
        "\n",
        "calculation = (upperside + downside) * height / 2\n",
        "\n",
        "print(f\"与えられた台形の面積は{calculation}㎠\")\n",
        "\n"
      ]
    }
  ]
}
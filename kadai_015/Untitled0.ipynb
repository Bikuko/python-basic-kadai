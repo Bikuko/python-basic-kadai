{
  "nbformat": 4,
  "nbformat_minor": 0,
  "metadata": {
    "colab": {
      "provenance": []
    },
    "kernelspec": {
      "name": "python3",
      "display_name": "Python 3"
    },
    "language_info": {
      "name": "python"
    }
  },
  "cells": [
    {
      "cell_type": "code",
      "execution_count": 19,
      "metadata": {
        "id": "XsKcbLYHr7rA",
        "outputId": "2745f916-b5ac-4cfe-8008-489b5cfcbd1b",
        "colab": {
          "base_uri": "https://localhost:8080/"
        }
      },
      "outputs": [
        {
          "output_type": "stream",
          "name": "stdout",
          "text": [
            "名前: 侍屋　寺子, 年齢: 40\n",
            "名前: 侍屋　寺男, 年齢: 50\n"
          ]
        }
      ],
      "source": [
        "class Data:\n",
        "    def __init__(self, name, age):\n",
        "        self.name = name  # 名前\n",
        "        self.age = age    # 年齢\n",
        "\n",
        "    def printinfo(self):\n",
        "        print(f\"名前: {self.name}, 年齢: {self.age}\")\n",
        "\n",
        "person1 = Data(\"侍屋　寺子\", 40)\n",
        "person2 = Data(\"侍屋　寺男\", 50)\n",
        "\n",
        "person1.printinfo()\n",
        "person2.printinfo()\n",
        "\n"
      ]
    }
  ]
}
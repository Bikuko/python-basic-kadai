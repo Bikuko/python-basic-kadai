{
  "nbformat": 4,
  "nbformat_minor": 0,
  "metadata": {
    "colab": {
      "provenance": []
    },
    "kernelspec": {
      "name": "python3",
      "display_name": "Python 3"
    },
    "language_info": {
      "name": "python"
    }
  },
  "cells": [
    {
      "cell_type": "code",
      "execution_count": 9,
      "metadata": {
        "id": "XsKcbLYHr7rA",
        "outputId": "618d29fd-1f28-4e05-fb54-f4d19243d335",
        "colab": {
          "base_uri": "https://localhost:8080/"
        }
      },
      "outputs": [
        {
          "output_type": "stream",
          "name": "stdout",
          "text": [
            "商品金額: 1000円\n",
            "消費税率: 10.0%\n",
            "税込み金額: 1100.00円\n"
          ]
        }
      ],
      "source": [
        "def calculate(price, tax_rate):\n",
        "    total_price = price * (1 + tax_rate)  # 税込み金額を計算\n",
        "    return total_price\n",
        "\n",
        "price = 1000\n",
        "\n",
        "tax_rate = 0.10\n",
        "\n",
        "total = calculate(price, tax_rate)\n",
        "\n",
        "# 結果を表示\n",
        "print(f\"商品金額: {price}円\")\n",
        "print(f\"消費税率: {tax_rate * 100}%\")\n",
        "print(f\"税込み金額: {total:.2f}円\")\n",
        "\n"
      ]
    }
  ]
}
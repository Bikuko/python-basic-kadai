{
  "nbformat": 4,
  "nbformat_minor": 0,
  "metadata": {
    "colab": {
      "provenance": []
    },
    "kernelspec": {
      "name": "python3",
      "display_name": "Python 3"
    },
    "language_info": {
      "name": "python"
    }
  },
  "cells": [
    {
      "cell_type": "code",
      "execution_count": 1,
      "metadata": {
        "id": "XsKcbLYHr7rA",
        "outputId": "ce9c7fb0-29f2-463e-a92d-2191a26b7fd1",
        "colab": {
          "base_uri": "https://localhost:8080/"
        }
      },
      "outputs": [
        {
          "output_type": "stream",
          "name": "stdout",
          "text": [
            "侍　太郎は大人である。\n",
            "寺子屋　花郎は大人でない。\n"
          ]
        }
      ],
      "source": [
        "class Human:\n",
        "  def __init__(self, name, age):\n",
        "    self.name = name\n",
        "    self.age = age\n",
        "\n",
        "  def check_adult(self):\n",
        "    if self.age >= 20:\n",
        "      print(f\"{self.name}は大人である。\")\n",
        "    else:\n",
        "      print(f\"{self.name}は大人でない。\")\n",
        "\n",
        "\n",
        "human_1 = Human(\"侍　太郎\", 30)\n",
        "human_2 = Human(\"寺子屋　花郎\", 11)\n",
        "\n",
        "humans = [human_1, human_2]\n",
        "\n",
        "# リストの要素数ぶんを呼び出す\n",
        "for human in humans:\n",
        "  human.check_adult()\n"
      ]
    }
  ]
}